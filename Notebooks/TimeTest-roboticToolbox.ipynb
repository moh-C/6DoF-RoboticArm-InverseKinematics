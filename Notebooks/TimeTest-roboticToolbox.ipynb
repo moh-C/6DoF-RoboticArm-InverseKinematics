{
 "cells": [
  {
   "cell_type": "code",
   "execution_count": 1,
   "metadata": {},
   "outputs": [],
   "source": [
    "from roboticstoolbox import DHRobot, RevoluteDH\n",
    "import numpy as np\n",
    "import time\n",
    "import matplotlib.pyplot as plt\n",
    "from spatialmath import SE3\n",
    "from tqdm import tqdm\n",
    "\n",
    "# Define DH parameters\n",
    "dh = np.array([\n",
    "    [0, -np.pi/2, 10, 0],\n",
    "    [50, 0, 0, -np.pi/2],\n",
    "    [0, -np.pi/2, 5, 0],\n",
    "    [0, np.pi/2, 50, 0],\n",
    "    [0, -np.pi/2, 0, 0],\n",
    "    [0, 0, 10, np.pi]\n",
    "])\n",
    "\n",
    "# Create robot model\n",
    "links = [RevoluteDH(d=row[2], a=row[0], alpha=row[1], offset=row[3]) for row in dh]\n",
    "robot = DHRobot(links, name=\"MyRobot\")\n",
    "\n",
    "def calculate_single_pose(robot, joint_angles):\n",
    "    \"\"\"\n",
    "    Calculate x, y, z position and roll, pitch, yaw angles for a single set of joint angles\n",
    "    and measure the execution time.\n",
    "    \n",
    "    Args:\n",
    "    robot (DHRobot): The robot model\n",
    "    joint_angles (list or numpy.array): List of 6 joint angles in degrees\n",
    "    \n",
    "    Returns:\n",
    "    dict: A dictionary containing the calculated pose and execution time\n",
    "    \"\"\"\n",
    "    start_time = time.time()\n",
    "    \n",
    "    # Convert joint angles to radians\n",
    "    q = np.deg2rad(joint_angles)\n",
    "    \n",
    "    # Calculate forward kinematics\n",
    "    T = robot.fkine(q)\n",
    "    \n",
    "    # Extract position\n",
    "    x, y, z = T.t\n",
    "    \n",
    "    # Extract Euler angles (ZYX convention: yaw, pitch, roll)\n",
    "    yaw, pitch, roll = np.rad2deg(T.eul())\n",
    "    \n",
    "    end_time = time.time()\n",
    "    execution_time = end_time - start_time\n",
    "    \n",
    "    return {\n",
    "        'x': x,\n",
    "        'y': y,\n",
    "        'z': z,\n",
    "        'roll': roll,\n",
    "        'pitch': pitch,\n",
    "        'yaw': yaw,\n",
    "        'execution_time': execution_time\n",
    "    }"
   ]
  },
  {
   "cell_type": "code",
   "execution_count": 2,
   "metadata": {},
   "outputs": [
    {
     "name": "stdout",
     "output_type": "stream",
     "text": [
      "Pose: x=91.3968, y=-1.1237, z=33.9993\n",
      "Orientation: roll=147.9111, pitch=80.8805, yaw=-38.3316\n",
      "Execution time: 0.000342 seconds\n"
     ]
    }
   ],
   "source": [
    "# Example usage:\n",
    "# Assuming you have a DHRobot object called 'robot'\n",
    "joint_angles = [0, 45, -30, 60, -45, 90]  # Example joint angles in degrees\n",
    "result = calculate_single_pose(robot, joint_angles)\n",
    "print(f\"Pose: x={result['x']:.4f}, y={result['y']:.4f}, z={result['z']:.4f}\")\n",
    "print(f\"Orientation: roll={result['roll']:.4f}, pitch={result['pitch']:.4f}, yaw={result['yaw']:.4f}\")\n",
    "print(f\"Execution time: {result['execution_time']:.6f} seconds\")"
   ]
  },
  {
   "cell_type": "code",
   "execution_count": 3,
   "metadata": {},
   "outputs": [
    {
     "name": "stdout",
     "output_type": "stream",
     "text": [
      "Single calculation:\n",
      "Joint angles: [-80.62061316945392, -53.12324607301727, 91.72867769880645, 6.767856140030702, 24.081054050497926, 43.290985426886664]\n",
      "Pose: x=6.0078, y=-2.7405, z=-0.0558\n",
      "Orientation: roll=54.7605, pitch=152.4103, yaw=-74.6612\n",
      "Execution time: 0.000757 seconds\n",
      "\n",
      "Average execution time over 1000 calculations: 0.000164 seconds\n",
      "Calculations per second: 6103.92\n"
     ]
    }
   ],
   "source": [
    "import random\n",
    "\n",
    "# Assuming you have a DHRobot object called 'robot'\n",
    "\n",
    "# Generate random joint angles\n",
    "def random_joint_angles():\n",
    "    return [random.uniform(-120, 120) for _ in range(6)]\n",
    "\n",
    "# Test the function with a single set of joint angles\n",
    "joint_angles = random_joint_angles()\n",
    "result = calculate_single_pose(robot, joint_angles)\n",
    "\n",
    "print(\"Single calculation:\")\n",
    "print(f\"Joint angles: {joint_angles}\")\n",
    "print(f\"Pose: x={result['x']:.4f}, y={result['y']:.4f}, z={result['z']:.4f}\")\n",
    "print(f\"Orientation: roll={result['roll']:.4f}, pitch={result['pitch']:.4f}, yaw={result['yaw']:.4f}\")\n",
    "print(f\"Execution time: {result['execution_time']:.6f} seconds\")\n",
    "\n",
    "# Test multiple calculations to get an average execution time\n",
    "num_tests = 1000\n",
    "total_time = 0\n",
    "\n",
    "for _ in range(num_tests):\n",
    "    joint_angles = random_joint_angles()\n",
    "    result = calculate_single_pose(robot, joint_angles)\n",
    "    total_time += result['execution_time']\n",
    "\n",
    "average_time = total_time / num_tests\n",
    "\n",
    "print(f\"\\nAverage execution time over {num_tests} calculations: {average_time:.6f} seconds\")\n",
    "print(f\"Calculations per second: {1/average_time:.2f}\")"
   ]
  }
 ],
 "metadata": {
  "kernelspec": {
   "display_name": "Python 3",
   "language": "python",
   "name": "python3"
  },
  "language_info": {
   "codemirror_mode": {
    "name": "ipython",
    "version": 3
   },
   "file_extension": ".py",
   "mimetype": "text/x-python",
   "name": "python",
   "nbconvert_exporter": "python",
   "pygments_lexer": "ipython3",
   "version": "3.8.10"
  }
 },
 "nbformat": 4,
 "nbformat_minor": 2
}
