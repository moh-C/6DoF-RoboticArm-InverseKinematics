{
 "cells": [
  {
   "cell_type": "code",
   "execution_count": 1,
   "metadata": {},
   "outputs": [
    {
     "name": "stderr",
     "output_type": "stream",
     "text": [
      "/usr/lib/python3/dist-packages/requests/__init__.py:89: RequestsDependencyWarning: urllib3 (2.2.2) or chardet (5.2.0) doesn't match a supported version!\n",
      "  warnings.warn(\"urllib3 ({}) or chardet ({}) doesn't match a supported \"\n"
     ]
    }
   ],
   "source": [
    "import numpy as np\n",
    "import tensorflow as tf\n",
    "import json\n",
    "import sys, os\n",
    "import itertools\n",
    "from tqdm import tqdm\n",
    "\n",
    "path = os.path.abspath(os.path.join(os.getcwd(), \"..\"))\n",
    "sys.path.append(path)\n",
    "np.set_printoptions(formatter={'float': '{:4.4f}'.format})\n",
    "\n",
    "from utils.utils import forward_kinematics, forward_kinematics_TF\n",
    "from utils.dh_params import dh_params"
   ]
  },
  {
   "cell_type": "code",
   "execution_count": 2,
   "metadata": {},
   "outputs": [],
   "source": [
    "def get_home_position():\n",
    "    \"\"\"Calculate the home position (all thetas are 0)\"\"\"\n",
    "    home_thetas = tf.zeros((1, 6), dtype=tf.float32)\n",
    "    home_positions_orientations, _ = forward_kinematics_TF(home_thetas, dh_params)\n",
    "    return home_positions_orientations[0, -1].numpy()  # Return end effector position\n",
    "\n",
    "def generate_dataset_custom_ranges(joint_angle_ranges, position_range=None, batch_size=1000):\n",
    "    \"\"\"\n",
    "    Generate a dataset using custom ranges and resolutions for each joint angle.\n",
    "    Only include data points where the end effector position (after subtracting home position) \n",
    "    is within the specified range. Uses TensorFlow for faster computation.\n",
    "    \n",
    "    Args:\n",
    "        joint_angle_ranges (list of dict): List of dictionaries specifying the range and resolution for each joint\n",
    "                                           e.g., [{'min': -75, 'max': 75, 'resolution': 1}, ...]\n",
    "        position_range (dict): Dictionary specifying the range for each axis\n",
    "                               e.g., {'x': (-100, 100), 'y': (-100, 100), 'z': (0, 200)}\n",
    "        batch_size (int): Number of combinations to process at once\n",
    "    \n",
    "    Returns:\n",
    "        dict: Dataset containing inputs and outputs\n",
    "    \"\"\"\n",
    "    # Create the range of angles for each joint\n",
    "    angle_ranges = [np.arange(joint['min'], joint['max'] + joint['resolution'], joint['resolution']) \n",
    "                    for joint in joint_angle_ranges]\n",
    "    \n",
    "    # Initialize lists to store valid data points\n",
    "    valid_inputs = []\n",
    "    valid_outputs = []\n",
    "    \n",
    "    # Set default position range if not provided\n",
    "    if position_range is None:\n",
    "        position_range = {'x': (-np.inf, np.inf), 'y': (-np.inf, np.inf), 'z': (-np.inf, np.inf)}\n",
    "    \n",
    "    # Calculate home position\n",
    "    home_position = get_home_position()\n",
    "    \n",
    "    # Calculate total number of combinations for the progress bar\n",
    "    total_combinations = np.prod([len(range) for range in angle_ranges])\n",
    "    \n",
    "    # Generate combinations of joint angles and calculate forward kinematics\n",
    "    combinations = itertools.product(*angle_ranges)\n",
    "    \n",
    "    for i in tqdm(range(0, total_combinations, batch_size), desc=\"Generating dataset\"):\n",
    "        # Get a batch of combinations\n",
    "        batch = list(itertools.islice(combinations, batch_size))\n",
    "        if not batch:\n",
    "            break\n",
    "        \n",
    "        # Convert batch to TensorFlow tensor\n",
    "        thetas_batch = tf.constant(batch, dtype=tf.float32)\n",
    "        \n",
    "        # Calculate forward kinematics for the batch\n",
    "        positions_orientations, _ = forward_kinematics_TF(thetas_batch, dh_params)\n",
    "        end_effectors = positions_orientations[:, -1, :]\n",
    "        \n",
    "        # Subtract home position\n",
    "        end_effectors_relative = end_effectors - home_position\n",
    "        \n",
    "        # Check if end effector positions are within the specified range\n",
    "        x, y, z = end_effectors_relative[:, :3].numpy().T\n",
    "        mask = (\n",
    "            (position_range['x'][0] <= x) & (x <= position_range['x'][1]) &\n",
    "            (position_range['y'][0] <= y) & (y <= position_range['y'][1]) &\n",
    "            (position_range['z'][0] <= z) & (z <= position_range['z'][1])\n",
    "        )\n",
    "        \n",
    "        valid_inputs.extend(np.array(batch)[mask])\n",
    "        valid_outputs.extend(end_effectors_relative.numpy()[mask])\n",
    "    \n",
    "    return {\n",
    "        'inputs': np.array(valid_inputs),\n",
    "        'outputs': np.array(valid_outputs)\n",
    "    }\n",
    "\n",
    "def analyze_joint_ranges(dataset):\n",
    "    \"\"\"\n",
    "    Analyze the dataset to find the minimum and maximum angles for each joint.\n",
    "    \n",
    "    Args:\n",
    "        dataset (dict): Dataset containing 'inputs' (joint angles)\n",
    "    \n",
    "    Returns:\n",
    "        dict: Minimum and maximum angles for each joint\n",
    "    \"\"\"\n",
    "    inputs = dataset['inputs']\n",
    "    num_joints = inputs.shape[1]\n",
    "    \n",
    "    joint_ranges = {}\n",
    "    for i in range(num_joints):\n",
    "        joint_ranges[f'joint_{i+1}'] = {\n",
    "            'min': np.min(inputs[:, i]),\n",
    "            'max': np.max(inputs[:, i])\n",
    "        }\n",
    "    \n",
    "    return joint_ranges"
   ]
  },
  {
   "cell_type": "code",
   "execution_count": null,
   "metadata": {},
   "outputs": [
    {
     "name": "stdout",
     "output_type": "stream",
     "text": [
      "Generating dataset...\n"
     ]
    },
    {
     "name": "stderr",
     "output_type": "stream",
     "text": [
      "Generating dataset:  13%|█▎        | 8/63 [00:08<00:56,  1.02s/it]"
     ]
    }
   ],
   "source": [
    "# Define custom ranges for each joint\n",
    "joint_angle_ranges = [\n",
    "    {'min': -60, 'max': 60, 'resolution': 5},  # Joint 1\n",
    "    {'min': -60, 'max': 60, 'resolution': 5},  # Joint 2\n",
    "    {'min': -60, 'max': 60, 'resolution': 5},  # Joint 3\n",
    "    {'min': -60, 'max': 60, 'resolution': 5},  # Joint 4\n",
    "    {'min': -60, 'max': 60, 'resolution': 10},  # Joint 5\n",
    "    {'min': -60, 'max': 60, 'resolution': 10}  # Joint 6\n",
    "]\n",
    "\n",
    "RNG = 40\n",
    "# Define the position range for the end effector\n",
    "position_range = {\n",
    "    'x': (-RNG, RNG),  # X range from -100 to 100\n",
    "    'y': (-RNG, RNG),  # Y range from -100 to 100\n",
    "    'z': (-RNG, RNG)      # Z range from 0 to 200\n",
    "}\n",
    "\n",
    "# Generate dataset\n",
    "print(\"Generating dataset...\")\n",
    "dataset = generate_dataset_custom_ranges(\n",
    "    joint_angle_ranges,\n",
    "    position_range,\n",
    "    batch_size=2**18\n",
    ")\n",
    "\n",
    "print(f\"\\nDataset size: {len(dataset['inputs'])} samples\")"
   ]
  },
  {
   "cell_type": "code",
   "execution_count": null,
   "metadata": {},
   "outputs": [],
   "source": [
    "# Print some statistics\n",
    "print(\"\\nDataset statistics:\")\n",
    "print(f\"Input shape: {dataset['inputs'].shape}\")\n",
    "print(f\"Output shape: {dataset['outputs'].shape}\")"
   ]
  },
  {
   "cell_type": "code",
   "execution_count": null,
   "metadata": {},
   "outputs": [],
   "source": [
    "# Analyze joint ranges\n",
    "actual_joint_ranges = analyze_joint_ranges(dataset)\n",
    "\n",
    "print(\"\\nActual joint angle ranges that produce end effector positions within the specified limits:\")\n",
    "for joint, range_info in actual_joint_ranges.items():\n",
    "    print(f\"{joint}: {range_info['min']:.2f} to {range_info['max']:.2f} degrees\")"
   ]
  },
  {
   "cell_type": "code",
   "execution_count": null,
   "metadata": {},
   "outputs": [],
   "source": [
    "# Print the first few samples\n",
    "print(\"\\nFirst few samples:\")\n",
    "for i in range(3):\n",
    "    print(f\"\\nSample {i + 1}:\")\n",
    "    print(f\"Input (joint angles): {dataset['inputs'][i]}\")\n",
    "    print(f\"Output (end effector position relative to home): {dataset['outputs'][i][:3]}\")\n",
    "    print(f\"Output (end effector orientation): {dataset['outputs'][i][3:]}\")"
   ]
  }
 ],
 "metadata": {
  "kernelspec": {
   "display_name": "Python 3",
   "language": "python",
   "name": "python3"
  },
  "language_info": {
   "codemirror_mode": {
    "name": "ipython",
    "version": 3
   },
   "file_extension": ".py",
   "mimetype": "text/x-python",
   "name": "python",
   "nbconvert_exporter": "python",
   "pygments_lexer": "ipython3",
   "version": "3.8.10"
  }
 },
 "nbformat": 4,
 "nbformat_minor": 2
}
