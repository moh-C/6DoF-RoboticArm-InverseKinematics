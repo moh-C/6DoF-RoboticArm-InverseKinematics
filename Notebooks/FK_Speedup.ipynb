{
 "cells": [
  {
   "cell_type": "markdown",
   "metadata": {},
   "source": [
    "## Import libraries"
   ]
  },
  {
   "cell_type": "code",
   "execution_count": 1,
   "metadata": {},
   "outputs": [
    {
     "name": "stderr",
     "output_type": "stream",
     "text": [
      "/usr/lib/python3/dist-packages/requests/__init__.py:89: RequestsDependencyWarning: urllib3 (2.2.2) or chardet (5.2.0) doesn't match a supported version!\n",
      "  warnings.warn(\"urllib3 ({}) or chardet ({}) doesn't match a supported \"\n"
     ]
    }
   ],
   "source": [
    "import numpy as np\n",
    "import tensorflow as tf\n",
    "import time"
   ]
  },
  {
   "cell_type": "markdown",
   "metadata": {},
   "source": [
    "### Helper functions"
   ]
  },
  {
   "cell_type": "code",
   "execution_count": 2,
   "metadata": {},
   "outputs": [],
   "source": [
    "def dh_matrix(a, alpha, d, theta):\n",
    "    \"\"\"Calculate the DH matrix for given parameters.\"\"\"\n",
    "    theta = np.deg2rad(theta)\n",
    "    alpha = np.deg2rad(alpha)\n",
    "    return np.array([\n",
    "        [np.cos(theta), -np.sin(theta)*np.cos(alpha), np.sin(theta)*np.sin(alpha), a*np.cos(theta)],\n",
    "        [np.sin(theta), np.cos(theta)*np.cos(alpha), -np.cos(theta)*np.sin(alpha), a*np.sin(theta)],\n",
    "        [0, np.sin(alpha), np.cos(alpha), d],\n",
    "        [0, 0, 0, 1]\n",
    "    ])\n",
    "\n",
    "def forward_kinematics(thetas, dh_params):\n",
    "    \"\"\"Calculate forward kinematics for given joint angles and DH parameters.\"\"\"\n",
    "    T = np.eye(4)\n",
    "    positions = [np.array([0, 0, 0])]\n",
    "    \n",
    "    for i in range(len(dh_params)):\n",
    "        a, alpha, d, theta_offset = dh_params[i]\n",
    "        theta = thetas[i] + theta_offset\n",
    "        T_i = dh_matrix(a, alpha, d, theta)\n",
    "        T = np.dot(T, T_i)\n",
    "        positions.append(T[:3, 3])\n",
    "    \n",
    "    return np.array(positions), T\n",
    "\n",
    "def dh_matrix_tf(a, alpha, d, theta):\n",
    "    \"\"\"Calculate the DH matrix for given parameters using TensorFlow.\"\"\"\n",
    "    # Convert degrees to radians\n",
    "    theta = theta * np.pi / 180.0\n",
    "    alpha = alpha * np.pi / 180.0\n",
    "    \n",
    "    cos_theta, sin_theta = tf.cos(theta), tf.sin(theta)\n",
    "    cos_alpha, sin_alpha = tf.cos(alpha), tf.sin(alpha)\n",
    "    \n",
    "    # Ensure all inputs have the same shape for broadcasting\n",
    "    zeros = tf.zeros_like(theta)\n",
    "    ones = tf.ones_like(theta)\n",
    "    \n",
    "    return tf.stack([\n",
    "        tf.stack([cos_theta, -sin_theta*cos_alpha, sin_theta*sin_alpha, a*cos_theta], axis=-1),\n",
    "        tf.stack([sin_theta, cos_theta*cos_alpha, -cos_theta*sin_alpha, a*sin_theta], axis=-1),\n",
    "        tf.stack([zeros, sin_alpha, cos_alpha, d*ones], axis=-1),\n",
    "        tf.stack([zeros, zeros, zeros, ones], axis=-1)\n",
    "    ], axis=-2)\n",
    "\n",
    "def forward_kinematics_TF(thetas_batch, dh_params):\n",
    "    \"\"\"\n",
    "    Calculate forward kinematics for a batch of joint angles using TensorFlow.\n",
    "    \n",
    "    Args:\n",
    "    thetas_batch: TensorFlow tensor of shape (batch_size, num_joints)\n",
    "    dh_params: NumPy array of shape (num_joints, 4) containing DH parameters [a, alpha, d, theta_offset]\n",
    "    \n",
    "    Returns:\n",
    "    positions: TensorFlow tensor of shape (batch_size, num_joints + 1, 3)\n",
    "    T: TensorFlow tensor of shape (batch_size, 4, 4) - final transformation matrices\n",
    "    \"\"\"\n",
    "    batch_size = tf.shape(thetas_batch)[0]\n",
    "    num_joints = tf.shape(thetas_batch)[1]\n",
    "    \n",
    "    # Convert DH parameters to TensorFlow tensors and broadcast to batch size\n",
    "    dh_params_tf = tf.constant(dh_params, dtype=tf.float32)\n",
    "    dh_params_tf = tf.broadcast_to(dh_params_tf[None, :, :], [batch_size, num_joints, 4])\n",
    "    \n",
    "    # Initialize transformation matrix\n",
    "    T = tf.eye(4, batch_shape=[batch_size])\n",
    "    \n",
    "    # Initialize positions tensor\n",
    "    positions = tf.zeros((batch_size, num_joints + 1, 3))\n",
    "    \n",
    "    for i in range(num_joints):\n",
    "        a, alpha, d, theta_offset = tf.unstack(dh_params_tf[:, i], axis=-1)\n",
    "        theta = thetas_batch[:, i] + theta_offset\n",
    "        T_i = dh_matrix_tf(a, alpha, d, theta)\n",
    "        T = tf.matmul(T, T_i)\n",
    "        positions = tf.tensor_scatter_nd_update(\n",
    "            positions, \n",
    "            tf.stack([tf.range(batch_size), tf.fill([batch_size], i+1)], axis=1),\n",
    "            T[:, :3, 3]\n",
    "        )\n",
    "    \n",
    "    return positions, T"
   ]
  },
  {
   "cell_type": "markdown",
   "metadata": {},
   "source": [
    "### Initialize DH parameters"
   ]
  },
  {
   "cell_type": "code",
   "execution_count": 3,
   "metadata": {},
   "outputs": [],
   "source": [
    "dh_params = np.array([\n",
    "    [0, 90, 0.0, 0],   # Joint 1\n",
    "    [50, 0, 0, 90],    # Joint 2\n",
    "    [50, 0, 0, -90],   # Joint 3\n",
    "    [0, 90, 10, -90],  # Joint 4\n",
    "    [0, -90, 10, 0],   # Joint 5\n",
    "    [0, 0, 10, 0]      # Joint 6\n",
    "])\n",
    "\n",
    "def run_and_time_numpy(num_iterations):\n",
    "    thetas = np.random.uniform(-np.pi, np.pi, (num_iterations, 6))\n",
    "    start_time = time.time()\n",
    "    for i in range(num_iterations):\n",
    "        positions_np, T_np = forward_kinematics(thetas[i], dh_params)\n",
    "    end_time = time.time()\n",
    "    return end_time - start_time\n",
    "\n",
    "def run_and_time_tensorflow(batch_size):\n",
    "    thetas_batch = tf.random.uniform((batch_size, 6), minval=-np.pi, maxval=np.pi)\n",
    "    start_time = time.time()\n",
    "    positions_tf, T_tf = forward_kinematics_TF(thetas_batch, dh_params)\n",
    "    end_time = time.time()\n",
    "    return end_time - start_time"
   ]
  },
  {
   "cell_type": "markdown",
   "metadata": {},
   "source": [
    "### Test and time the NumPy version"
   ]
  },
  {
   "cell_type": "code",
   "execution_count": 4,
   "metadata": {},
   "outputs": [
    {
     "name": "stdout",
     "output_type": "stream",
     "text": [
      "NumPy version test (single iteration):\n",
      "Joint positions:\n",
      "Joint 0: [0. 0. 0.]\n",
      "Joint 1: [0. 0. 0.]\n",
      "Joint 2: [3.061617e-15 3.061617e-15 5.000000e+01]\n",
      "Joint 3: [5.000000e+01 3.061617e-15 5.000000e+01]\n",
      "Joint 4: [ 50. -10.  50.]\n",
      "Joint 5: [ 40. -10.  50.]\n",
      "Joint 6: [ 40. -20.  50.]\n",
      "\n",
      "Final transformation matrix:\n",
      "[[ 6.123234e-17  1.000000e+00  0.000000e+00  4.000000e+01]\n",
      " [-6.123234e-17  0.000000e+00 -1.000000e+00 -2.000000e+01]\n",
      " [-1.000000e+00  6.123234e-17  6.123234e-17  5.000000e+01]\n",
      " [ 0.000000e+00  0.000000e+00  0.000000e+00  1.000000e+00]]\n"
     ]
    }
   ],
   "source": [
    "print(\"NumPy version test (single iteration):\")\n",
    "thetas = np.zeros(6)  # Example joint angles\n",
    "positions_np, T_np = forward_kinematics(thetas, dh_params)\n",
    "\n",
    "print(\"Joint positions:\")\n",
    "for i, pos in enumerate(positions_np):\n",
    "    print(f\"Joint {i}: {pos}\")\n",
    "print(\"\\nFinal transformation matrix:\")\n",
    "print(T_np)"
   ]
  },
  {
   "cell_type": "markdown",
   "metadata": {},
   "source": [
    "### Test and time the TensorFlow batch version"
   ]
  },
  {
   "cell_type": "code",
   "execution_count": 5,
   "metadata": {},
   "outputs": [
    {
     "name": "stdout",
     "output_type": "stream",
     "text": [
      "\n",
      "TensorFlow batch version test (single batch):\n",
      "Joint positions (first item in batch):\n",
      "Joint 0: [0. 0. 0.]\n",
      "Joint 1: [0. 0. 0.]\n",
      "Joint 2: [-1.7374598e+00  2.1479061e-02  4.9969799e+01]\n",
      "Joint 3: [48.17449    -0.59561217 52.870895  ]\n",
      "Joint 4: [ 48.050865 -10.594849  52.870895]\n",
      "Joint 5: [ 38.06524  -10.47139   52.349346]\n",
      "Joint 6: [ 37.93683  -20.470146  52.441025]\n",
      "\n",
      "Final transformation matrix (first item in batch):\n",
      "[[ 3.2372497e-02  9.9939334e-01 -1.2840903e-02  3.7936829e+01]\n",
      " [-9.5796892e-03 -1.2536790e-02 -9.9987555e-01 -2.0470146e+01]\n",
      " [-9.9942994e-01  3.2491483e-02  9.1680316e-03  5.2441025e+01]\n",
      " [ 0.0000000e+00  0.0000000e+00  0.0000000e+00  1.0000000e+00]]\n"
     ]
    }
   ],
   "source": [
    "print(\"\\nTensorFlow batch version test (single batch):\")\n",
    "batch_size = 2048\n",
    "thetas_batch = tf.random.uniform((batch_size, 6), minval=-np.pi, maxval=np.pi)\n",
    "positions_tf, T_tf = forward_kinematics_TF(thetas_batch, dh_params)\n",
    "\n",
    "print(\"Joint positions (first item in batch):\")\n",
    "for i in range(7):\n",
    "    print(f\"Joint {i}: {positions_tf[0, i].numpy()}\")\n",
    "print(\"\\nFinal transformation matrix (first item in batch):\")\n",
    "print(T_tf[0].numpy())"
   ]
  },
  {
   "cell_type": "markdown",
   "metadata": {},
   "source": [
    "### Timing comparisons"
   ]
  },
  {
   "cell_type": "code",
   "execution_count": 6,
   "metadata": {},
   "outputs": [
    {
     "name": "stdout",
     "output_type": "stream",
     "text": [
      "\n",
      "Timing Comparisons:\n",
      "NumPy version (sequential, 65536 iterations): 6.1924 seconds\n",
      "TensorFlow version (batched, batch size 65536): 0.0214 seconds\n",
      "\n",
      "Speedup factor: 288.79x\n",
      "\n",
      "Note: Run this in a Jupyter notebook for more accurate timing results.\n"
     ]
    }
   ],
   "source": [
    "print(\"\\nTiming Comparisons:\")\n",
    "\n",
    "num_iterations = 2**16\n",
    "numpy_time = run_and_time_numpy(num_iterations)\n",
    "print(f\"NumPy version (sequential, {num_iterations} iterations): {numpy_time:.4f} seconds\")\n",
    "\n",
    "tensorflow_time = run_and_time_tensorflow(num_iterations)\n",
    "print(f\"TensorFlow version (batched, batch size {num_iterations}): {tensorflow_time:.4f} seconds\")\n",
    "\n",
    "speedup = numpy_time / tensorflow_time\n",
    "print(f\"\\nSpeedup factor: {speedup:.2f}x\")\n",
    "\n",
    "print(\"\\nNote: Run this in a Jupyter notebook for more accurate timing results.\")"
   ]
  }
 ],
 "metadata": {
  "kernelspec": {
   "display_name": "Python 3",
   "language": "python",
   "name": "python3"
  },
  "language_info": {
   "codemirror_mode": {
    "name": "ipython",
    "version": 3
   },
   "file_extension": ".py",
   "mimetype": "text/x-python",
   "name": "python",
   "nbconvert_exporter": "python",
   "pygments_lexer": "ipython3",
   "version": "3.8.10"
  }
 },
 "nbformat": 4,
 "nbformat_minor": 2
}
