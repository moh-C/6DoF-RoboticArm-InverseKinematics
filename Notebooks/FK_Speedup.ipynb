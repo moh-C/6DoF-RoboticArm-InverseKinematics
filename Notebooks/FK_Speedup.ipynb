{
 "cells": [
  {
   "cell_type": "markdown",
   "metadata": {},
   "source": [
    "## Import libraries"
   ]
  },
  {
   "cell_type": "code",
   "execution_count": 1,
   "metadata": {},
   "outputs": [
    {
     "name": "stderr",
     "output_type": "stream",
     "text": [
      "/usr/lib/python3/dist-packages/requests/__init__.py:89: RequestsDependencyWarning: urllib3 (2.2.2) or chardet (5.2.0) doesn't match a supported version!\n",
      "  warnings.warn(\"urllib3 ({}) or chardet ({}) doesn't match a supported \"\n"
     ]
    }
   ],
   "source": [
    "import numpy as np\n",
    "import tensorflow as tf\n",
    "import time"
   ]
  },
  {
   "cell_type": "code",
   "execution_count": 2,
   "metadata": {},
   "outputs": [],
   "source": [
    "np.set_printoptions(formatter={'float': '{:8.4f}'.format})"
   ]
  },
  {
   "cell_type": "markdown",
   "metadata": {},
   "source": [
    "### Helper functions"
   ]
  },
  {
   "cell_type": "code",
   "execution_count": 3,
   "metadata": {},
   "outputs": [],
   "source": [
    "def dh_matrix(a, alpha, d, theta):\n",
    "    \"\"\"\n",
    "    Calculate the Denavit-Hartenberg (DH) transformation matrix for given parameters.\n",
    "\n",
    "    Args:\n",
    "    a (float): Link length (distance along X_i from O_i to O_i+1)\n",
    "    alpha (float): Link twist (angle about X_i from Z_i to Z_i+1)\n",
    "    d (float): Link offset (distance along Z_i-1 from X_i-1 to X_i)\n",
    "    theta (float): Joint angle (angle about Z_i-1 from X_i-1 to X_i)\n",
    "\n",
    "    Returns:\n",
    "    numpy.ndarray: 4x4 DH transformation matrix\n",
    "    \"\"\"\n",
    "    theta = np.deg2rad(theta)\n",
    "    alpha = np.deg2rad(alpha)\n",
    "    return np.array([\n",
    "        [np.cos(theta), -np.sin(theta)*np.cos(alpha), np.sin(theta)*np.sin(alpha), a*np.cos(theta)],\n",
    "        [np.sin(theta), np.cos(theta)*np.cos(alpha), -np.cos(theta)*np.sin(alpha), a*np.sin(theta)],\n",
    "        [0, np.sin(alpha), np.cos(alpha), d],\n",
    "        [0, 0, 0, 1]\n",
    "    ])\n",
    "\n",
    "def euler_from_matrix(matrix):\n",
    "    \"\"\"\n",
    "    Extract Euler angles (roll, pitch, yaw) from a rotation matrix.\n",
    "    \n",
    "    Args:\n",
    "    matrix (numpy.ndarray): 3x3 rotation matrix\n",
    "\n",
    "    Returns:\n",
    "    tuple: (roll, pitch, yaw) in degrees\n",
    "    \"\"\"\n",
    "    sy = np.sqrt(matrix[0, 0] ** 2 + matrix[1, 0] ** 2)\n",
    "    singular = sy < 1e-6\n",
    "\n",
    "    if not singular:\n",
    "        x = np.arctan2(matrix[2, 1], matrix[2, 2])\n",
    "        y = np.arctan2(-matrix[2, 0], sy)\n",
    "        z = np.arctan2(matrix[1, 0], matrix[0, 0])\n",
    "    else:\n",
    "        x = np.arctan2(-matrix[1, 2], matrix[1, 1])\n",
    "        y = np.arctan2(-matrix[2, 0], sy)\n",
    "        z = 0\n",
    "\n",
    "    return np.rad2deg(x), np.rad2deg(y), np.rad2deg(z)\n",
    "\n",
    "def forward_kinematics(thetas, dh_params):\n",
    "    \"\"\"\n",
    "    Calculate forward kinematics for given joint angles and DH parameters.\n",
    "\n",
    "    Args:\n",
    "    thetas (list or numpy.ndarray): List of joint angles in degrees\n",
    "    dh_params (numpy.ndarray): Array of DH parameters, each row [a, alpha, d, theta_offset]\n",
    "\n",
    "    Returns:\n",
    "    tuple:\n",
    "        - numpy.ndarray: List of (x, y, z, roll, pitch, yaw) for each joint\n",
    "        - numpy.ndarray: Final 4x4 transformation matrix\n",
    "    \"\"\"\n",
    "    T = np.eye(4)\n",
    "    positions_and_orientations = [np.array([0, 0, 0, 0, 0, 0])]\n",
    "\n",
    "    for i in range(len(dh_params)):\n",
    "        a, alpha, d, theta_offset = dh_params[i]\n",
    "        theta = thetas[i] + theta_offset\n",
    "        T_i = dh_matrix(a, alpha, d, theta)\n",
    "        T = np.dot(T, T_i)\n",
    "        position = T[:3, 3]\n",
    "        roll, pitch, yaw = euler_from_matrix(T[:3, :3])\n",
    "        positions_and_orientations.append(np.array([*position, roll, pitch, yaw]))\n",
    "\n",
    "    return np.array(positions_and_orientations), T\n",
    "\n",
    "def euler_from_matrix_tf(matrix):\n",
    "    \"\"\"\n",
    "    Extract Euler angles (roll, pitch, yaw) from a rotation matrix using TensorFlow.\n",
    "    \n",
    "    Args:\n",
    "    matrix (tf.Tensor): 3x3 rotation matrix or batch of matrices\n",
    "\n",
    "    Returns:\n",
    "    tf.Tensor: (roll, pitch, yaw) in degrees\n",
    "    \"\"\"\n",
    "    sy = tf.sqrt(matrix[..., 0, 0] ** 2 + matrix[..., 1, 0] ** 2)\n",
    "    singular = tf.less(sy, 1e-6)\n",
    "\n",
    "    x = tf.where(singular,\n",
    "                 tf.atan2(-matrix[..., 1, 2], matrix[..., 1, 1]),\n",
    "                 tf.atan2(matrix[..., 2, 1], matrix[..., 2, 2]))\n",
    "    y = tf.where(singular,\n",
    "                 tf.atan2(-matrix[..., 2, 0], sy),\n",
    "                 tf.atan2(-matrix[..., 2, 0], sy))\n",
    "    z = tf.where(singular,\n",
    "                 tf.zeros_like(x),\n",
    "                 tf.atan2(matrix[..., 1, 0], matrix[..., 0, 0]))\n",
    "\n",
    "    return tf.stack([x, y, z], axis=-1) * 180.0 / np.pi\n",
    "\n",
    "def dh_matrix_tf(a, alpha, d, theta):\n",
    "    \"\"\"Calculate the DH matrix for given parameters using TensorFlow.\"\"\"\n",
    "    # Convert degrees to radians\n",
    "    theta = theta * np.pi / 180.0\n",
    "    alpha = alpha * np.pi / 180.0\n",
    "    \n",
    "    cos_theta, sin_theta = tf.cos(theta), tf.sin(theta)\n",
    "    cos_alpha, sin_alpha = tf.cos(alpha), tf.sin(alpha)\n",
    "    \n",
    "    # Ensure all inputs have the same shape for broadcasting\n",
    "    zeros = tf.zeros_like(theta)\n",
    "    ones = tf.ones_like(theta)\n",
    "    \n",
    "    return tf.stack([\n",
    "        tf.stack([cos_theta, -sin_theta*cos_alpha, sin_theta*sin_alpha, a*cos_theta], axis=-1),\n",
    "        tf.stack([sin_theta, cos_theta*cos_alpha, -cos_theta*sin_alpha, a*sin_theta], axis=-1),\n",
    "        tf.stack([zeros, sin_alpha, cos_alpha, d*ones], axis=-1),\n",
    "        tf.stack([zeros, zeros, zeros, ones], axis=-1)\n",
    "    ], axis=-2)\n",
    "\n",
    "def forward_kinematics_TF(thetas_batch, dh_params):\n",
    "    \"\"\"\n",
    "    Calculate forward kinematics for a batch of joint angles using TensorFlow.\n",
    "\n",
    "    Args:\n",
    "    thetas_batch: TensorFlow tensor of shape (batch_size, num_joints)\n",
    "    dh_params: NumPy array of shape (num_joints, 4) containing DH parameters [a, alpha, d, theta_offset]\n",
    "\n",
    "    Returns:\n",
    "    positions_and_orientations: TensorFlow tensor of shape (batch_size, num_joints + 1, 6)\n",
    "    T: TensorFlow tensor of shape (batch_size, 4, 4) - final transformation matrices\n",
    "    \"\"\"\n",
    "    batch_size = tf.shape(thetas_batch)[0]\n",
    "    num_joints = tf.shape(thetas_batch)[1]\n",
    "\n",
    "    dh_params_tf = tf.constant(dh_params, dtype=tf.float32)\n",
    "    dh_params_tf = tf.broadcast_to(dh_params_tf[None, :, :], [batch_size, num_joints, 4])\n",
    "\n",
    "    T = tf.eye(4, batch_shape=[batch_size])\n",
    "    \n",
    "    # Initialize positions_and_orientations with zeros\n",
    "    positions_and_orientations = tf.zeros((batch_size, num_joints + 1, 6))\n",
    "    \n",
    "    # Set the initial position (0,0,0) and orientation (0,0,0) for the base\n",
    "    positions_and_orientations = tf.tensor_scatter_nd_update(\n",
    "        positions_and_orientations,\n",
    "        tf.stack([tf.range(batch_size), tf.zeros(batch_size, dtype=tf.int32)], axis=1),\n",
    "        tf.zeros((batch_size, 6))\n",
    "    )\n",
    "\n",
    "    for i in range(num_joints):\n",
    "        a, alpha, d, theta_offset = tf.unstack(dh_params_tf[:, i], axis=-1)\n",
    "        theta = thetas_batch[:, i] + theta_offset\n",
    "        T_i = dh_matrix_tf(a, alpha, d, theta)\n",
    "        T = tf.matmul(T, T_i)\n",
    "        position = T[..., :3, 3]\n",
    "        rotation = euler_from_matrix_tf(T[..., :3, :3])\n",
    "        positions_and_orientations = tf.tensor_scatter_nd_update(\n",
    "            positions_and_orientations,\n",
    "            tf.stack([tf.range(batch_size), tf.fill([batch_size], i+1)], axis=1),\n",
    "            tf.concat([position, rotation], axis=-1)\n",
    "        )\n",
    "\n",
    "    return positions_and_orientations, T"
   ]
  },
  {
   "cell_type": "markdown",
   "metadata": {},
   "source": [
    "### Initialize DH parameters"
   ]
  },
  {
   "cell_type": "code",
   "execution_count": 4,
   "metadata": {},
   "outputs": [],
   "source": [
    "dh_params = np.array([\n",
    "    [0, 90, 0.0, 0],   # Joint 1\n",
    "    [50, 0, 0, 90],    # Joint 2\n",
    "    [50, 0, 0, -90],   # Joint 3\n",
    "    [0, 90, 10, -90],  # Joint 4\n",
    "    [0, -90, 10, 0],   # Joint 5\n",
    "    [0, 0, 10, 0]      # Joint 6\n",
    "])\n",
    "\n",
    "def run_and_time_numpy(num_iterations):\n",
    "    thetas = np.random.uniform(-np.pi, np.pi, (num_iterations, 6))\n",
    "    start_time = time.time()\n",
    "    for i in range(num_iterations):\n",
    "        positions_np, T_np = forward_kinematics(thetas[i], dh_params)\n",
    "    end_time = time.time()\n",
    "    return end_time - start_time\n",
    "\n",
    "def run_and_time_tensorflow(batch_size):\n",
    "    thetas_batch = tf.random.uniform((batch_size, 6), minval=-np.pi, maxval=np.pi)\n",
    "    start_time = time.time()\n",
    "    positions_tf, T_tf = forward_kinematics_TF(thetas_batch, dh_params)\n",
    "    end_time = time.time()\n",
    "    return end_time - start_time"
   ]
  },
  {
   "cell_type": "markdown",
   "metadata": {},
   "source": [
    "### Test and time the NumPy version"
   ]
  },
  {
   "cell_type": "code",
   "execution_count": 5,
   "metadata": {},
   "outputs": [
    {
     "name": "stdout",
     "output_type": "stream",
     "text": [
      "NumPy version test (single iteration):\n",
      "Joint positions:\n",
      "Joint 0: [  0.0000   0.0000   0.0000   0.0000   0.0000   0.0000]\n",
      "Joint 1: [  0.0000   0.0000   0.0000  90.0000  -0.0000   0.0000]\n",
      "Joint 2: [  0.0000   0.0000  50.0000  90.0000 -90.0000   0.0000]\n",
      "Joint 3: [ 50.0000   0.0000  50.0000  90.0000  -0.0000   0.0000]\n",
      "Joint 4: [ 50.0000 -10.0000  50.0000 180.0000  90.0000   0.0000]\n",
      "Joint 5: [ 40.0000 -10.0000  50.0000  90.0000  90.0000   0.0000]\n",
      "Joint 6: [ 40.0000 -20.0000  50.0000  90.0000  90.0000   0.0000]\n",
      "\n",
      "Final transformation matrix:\n",
      "[[  0.0000   1.0000   0.0000  40.0000]\n",
      " [ -0.0000   0.0000  -1.0000 -20.0000]\n",
      " [ -1.0000   0.0000   0.0000  50.0000]\n",
      " [  0.0000   0.0000   0.0000   1.0000]]\n"
     ]
    }
   ],
   "source": [
    "print(\"NumPy version test (single iteration):\")\n",
    "thetas = np.zeros(6)  # Example joint angles\n",
    "positions_and_orientations_np, final_T_np = forward_kinematics(thetas, dh_params)\n",
    "\n",
    "print(\"Joint positions:\")\n",
    "for i, pos in enumerate(positions_and_orientations_np):\n",
    "    print(f\"Joint {i}: {pos}\")\n",
    "print(\"\\nFinal transformation matrix:\")\n",
    "print(final_T_np)"
   ]
  },
  {
   "cell_type": "markdown",
   "metadata": {},
   "source": [
    "### Test and time the TensorFlow batch version"
   ]
  },
  {
   "cell_type": "code",
   "execution_count": 6,
   "metadata": {},
   "outputs": [
    {
     "name": "stdout",
     "output_type": "stream",
     "text": [
      "\n",
      "TensorFlow batch version test (single batch):\n",
      "Joint positions (first item in batch):\n",
      "Joint 0: [  0.0000   0.0000   0.0000   0.0000   0.0000   0.0000]\n",
      "Joint 1: [  0.0000   0.0000   0.0000  90.0000  -0.0000  -0.7888]\n",
      "Joint 2: [  0.7563  -0.0104  49.9943  90.0002 -89.1332  -0.7889]\n",
      "Joint 3: [ 50.7505  -0.6987  50.3326  90.0000  -0.3877  -0.7888]\n",
      "Joint 4: [ 50.6128 -10.6978  50.3326  -0.0001  87.3687 179.2112]\n",
      "Joint 5: [ 40.6243 -10.5602  50.7917 -71.2988  87.2219 -162.0671]\n",
      "Joint 6: [ 40.4938 -20.5582  50.9471 -76.2345  86.2553 -167.0106]\n",
      "\n",
      "Final transformation matrix (first item in batch):\n",
      "[[ -0.0636   0.9979  -0.0131  40.4938]\n",
      " [ -0.0147  -0.0140  -0.9998 -20.5582]\n",
      " [ -0.9979  -0.0634   0.0155  50.9471]\n",
      " [  0.0000   0.0000   0.0000   1.0000]]\n"
     ]
    }
   ],
   "source": [
    "print(\"\\nTensorFlow batch version test (single batch):\")\n",
    "batch_size = 2048\n",
    "thetas_batch = tf.random.uniform((batch_size, 6), minval=-np.pi, maxval=np.pi)\n",
    "positions_and_orientations_TF, final_T_TF = forward_kinematics_TF(thetas_batch, dh_params)\n",
    "\n",
    "print(\"Joint positions (first item in batch):\")\n",
    "for i in range(7):\n",
    "    print(f\"Joint {i}: {positions_and_orientations_TF[0, i].numpy()}\")\n",
    "print(\"\\nFinal transformation matrix (first item in batch):\")\n",
    "print(final_T_TF[0].numpy())"
   ]
  },
  {
   "cell_type": "markdown",
   "metadata": {},
   "source": [
    "### Timing comparisons"
   ]
  },
  {
   "cell_type": "code",
   "execution_count": 7,
   "metadata": {},
   "outputs": [
    {
     "name": "stdout",
     "output_type": "stream",
     "text": [
      "\n",
      "Timing Comparisons:\n",
      "NumPy version (sequential, 65536 iterations): 9.2202 seconds\n",
      "TensorFlow version (batched, batch size 65536): 0.0411 seconds\n",
      "\n",
      "Speedup factor: 224.32x\n",
      "\n",
      "Note: Run this in a Jupyter notebook for more accurate timing results.\n"
     ]
    }
   ],
   "source": [
    "print(\"\\nTiming Comparisons:\")\n",
    "\n",
    "num_iterations = 2**16\n",
    "numpy_time = run_and_time_numpy(num_iterations)\n",
    "print(f\"NumPy version (sequential, {num_iterations} iterations): {numpy_time:.4f} seconds\")\n",
    "\n",
    "tensorflow_time = run_and_time_tensorflow(num_iterations)\n",
    "print(f\"TensorFlow version (batched, batch size {num_iterations}): {tensorflow_time:.4f} seconds\")\n",
    "\n",
    "speedup = numpy_time / tensorflow_time\n",
    "print(f\"\\nSpeedup factor: {speedup:.2f}x\")\n",
    "\n",
    "print(\"\\nNote: Run this in a Jupyter notebook for more accurate timing results.\")"
   ]
  }
 ],
 "metadata": {
  "kernelspec": {
   "display_name": "Python 3",
   "language": "python",
   "name": "python3"
  },
  "language_info": {
   "codemirror_mode": {
    "name": "ipython",
    "version": 3
   },
   "file_extension": ".py",
   "mimetype": "text/x-python",
   "name": "python",
   "nbconvert_exporter": "python",
   "pygments_lexer": "ipython3",
   "version": "3.8.10"
  }
 },
 "nbformat": 4,
 "nbformat_minor": 2
}
